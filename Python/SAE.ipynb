{
 "cells": [
  {
   "cell_type": "code",
   "execution_count": null,
   "metadata": {},
   "outputs": [],
   "source": [
    "\n",
    "import numpy as np\n",
    "import pandas as pd\n",
    "import seaborn as sns\n",
    "import ast as ast\n",
    "import matplotlib.cm as cm\n",
    "from geopy.distance import geodesic\n",
    "import scipy.stats as sps\n",
    "import networkx as nx\n",
    "import matplotlib\n",
    "import math\n",
    "import mysql.connector\n",
    "matplotlib.use('Agg')\n",
    "import matplotlib.pyplot as plt\n",
    "%matplotlib inline\n",
    "import warnings\n",
    "warnings.filterwarnings('ignore')\n",
    "plt.rcParams[\"figure.figsize\"] = (20,15)"
   ]
  },
  {
   "cell_type": "code",
   "execution_count": null,
   "metadata": {},
   "outputs": [],
   "source": [
    "def pos_insee(G,data):\n",
    "    pos = {} #dictionnaire vide\n",
    "    for com in G.nodes:\n",
    "        y = float(data[data['Code Officiel Commune'] == com]['Latitude'].iloc[0])\n",
    "        x = float(data[data['Code Officiel Commune'] == com]['Longitude'].iloc[0])\n",
    "        #on peut adapter les coordonnées\n",
    "        #x=(x- 48.13380133652042)*1000\n",
    "        #y=(y+2.287539276431153)*1000\n",
    "    \n",
    "        pos[com]=[x,y]\n",
    "    \n",
    "    return pos\n",
    "\n",
    "\n",
    "def label_insee(G,data):\n",
    "    label = {} #dictionnaire vide\n",
    "    for com in G.nodes:\n",
    "        lab = data[data['Code Officiel Commune'] == com]['Nom Officiel Commune'].iloc[0]\n",
    "        label[com]=lab\n",
    "    \n",
    "    return label\n",
    "\n",
    "def amezek(com):\n",
    "    voisins = [int(num) for num in communes['insee_voisins'][com].split('|')]\n",
    "    amezek = []\n",
    "    for vois in voisins :\n",
    "        if (22000 <= vois and vois<23000) or (29000 <= vois and vois<30000) or (35000 <= vois and vois<36000) or (56000 <= vois and vois<57000) : #on reste en bretagne\n",
    "            if vois != communes['insee'][com] : #boucle\n",
    "                amezek.append(vois)\n",
    "    return amezek"
   ]
  },
  {
   "cell_type": "markdown",
   "metadata": {},
   "source": [
    "On établie d'abord des fonctions nous permettant de tracer les graphes correctement, en créant des dictionnaires avec la position ainsi que le numéro Insee pour chaque commune. On enlève aussi les communes hors de la Bretagne des communes voisines à celle située aux bords."
   ]
  },
  {
   "cell_type": "code",
   "execution_count": null,
   "metadata": {},
   "outputs": [],
   "source": [
    "\n",
    "def affichageGraphe(C,label):\n",
    "    cent = np.fromiter(c.values(), float)\n",
    "    sizes = cent / np.max(cent) * 200\n",
    "    colormap = cm.viridis\n",
    "\n",
    "    # Utilisation de subplots pour mieux gérer la disposition\n",
    "    fig, ax = plt.subplots(figsize=(20, 15))  # Taille plus grande pour plus d'espace\n",
    "\n",
    "\n",
    "    nx.draw(G, pos_insee, node_size=50, node_color=sizes, cmap=colormap, ax=ax)\n",
    "\n",
    "    # Ajout d'un colorbar à côté du graphe\n",
    "    cbar_ax = fig.add_axes([0.9, 0.15, 0.03, 0.7])  # [left, bottom, width, height]\n",
    "    scalarmappaple = cm.ScalarMappable(cmap=colormap)\n",
    "    cbar = fig.colorbar(scalarmappaple, cax=cbar_ax)\n",
    "    cbar.set_ticks(ticks=[0, 1], labels=[min(c.values()), max(c.values())])\n",
    "    cbar.set_label(label)\n",
    "\n",
    "    plt.show()\n"
   ]
  },
  {
   "cell_type": "markdown",
   "metadata": {},
   "source": [
    "On définie une méthode que l'on utilisera pour chaque affichage de graphe, elle possède donc plusieurs paramètre pour fonctionner dans toutes les situations. Avec \"c\" un dictionnaire avec pour clé le numéro Insee d'une commune et en valeur l'indicateur qu'on souhaite représenter sur le graphe, ainsi qu'un label pour afficher la légende sur le graphe. Cette fonction ajoute aussi une color bar sur la droite du graphe, nous permettant de mieux visualiser les données."
   ]
  },
  {
   "cell_type": "code",
   "execution_count": null,
   "metadata": {},
   "outputs": [],
   "source": [
    "communes=pd.read_csv(\"./DonneesFourniesGraphes/voisinageCommunesBretonnes.csv\", sep=';')\n",
    "voisins_dict = {communes['insee'][x] : amezek(x) for x in range(len(communes['insee']))}"
   ]
  },
  {
   "cell_type": "markdown",
   "metadata": {},
   "source": [
    "On lit les données à partir du fichier csv et on créé un dictionnaire qui associe à chaque commune son code INSEE et la liste de ses voisins."
   ]
  },
  {
   "cell_type": "code",
   "execution_count": null,
   "metadata": {},
   "outputs": [],
   "source": [
    "G = nx.from_dict_of_lists(voisins_dict)"
   ]
  },
  {
   "cell_type": "markdown",
   "metadata": {},
   "source": [
    "On créé un graphe G à partir de ce dictionnaire de voisin grâce a la bibliothèque networkx"
   ]
  },
  {
   "cell_type": "code",
   "execution_count": null,
   "metadata": {},
   "outputs": [],
   "source": [
    "geo=pd.read_csv(\"./DonneesFourniesGraphes/communes-geo.csv\", sep=';')\n",
    "geo_lite = geo.iloc[:,[0,1,17,19]]\n",
    "ast.literal_eval(geo_lite['Geo Point'][0])\n",
    "geo_lite['Latitude']=geo_lite['Geo Point'].apply(lambda x : ast.literal_eval(x)[0])\n",
    "geo_lite['Longitude']=geo_lite['Geo Point'].apply(lambda x : ast.literal_eval(x)[1])\n",
    "\n",
    "pos_insee = pos_insee(G,geo_lite)\n",
    "label_insee = label_insee(G,geo_lite)"
   ]
  },
  {
   "cell_type": "markdown",
   "metadata": {},
   "source": [
    "On lit à partir d'une autre fichier csv les coordonnées des communes."
   ]
  },
  {
   "cell_type": "code",
   "execution_count": null,
   "metadata": {},
   "outputs": [],
   "source": [
    "def excentricity(G):\n",
    "    dico = {}\n",
    "    dico[56009] = 2\n",
    "    dico[56241] = 2\n",
    "    dico[56152] = 2\n",
    "    dico[56114] = 2\n",
    "\n",
    "    for node1 in G.nodes:\n",
    "        length = nx.shortest_path_length(G, source=node1)\n",
    "        dico[node1] = max(length.values())\n",
    "\n",
    "    return dico\n",
    "\n",
    "\n",
    "c = excentricity(G)\n",
    "\n",
    "affichageGraphe(c,\"excentricité\")\n",
    "\n"
   ]
  },
  {
   "cell_type": "markdown",
   "metadata": {},
   "source": [
    "L'excentricité permet de mesurer la distance maximale entre une commune et toutes les autres communes du réseau. En analysant l'excentricité, nous pouvons identifier les communes qui sont géographiquement centrales et celles qui sont périphériques. Les communes avec une faible excentricité sont potentiellement plus attractives, car elles sont facilement accessibles depuis n'importe quel autre point du réseau, ce qui favorise les interactions économiques, sociales et culturelles."
   ]
  },
  {
   "cell_type": "code",
   "execution_count": null,
   "metadata": {},
   "outputs": [],
   "source": [
    "def degree(G):\n",
    "    dico = {}\n",
    "    for node1 in G.nodes:\n",
    "        dico[node1] = G.degree(node1)\n",
    "    return dico\n",
    "\n",
    "c = degree(G)\n",
    "\n",
    "affichageGraphe(c,\"degré\")"
   ]
  },
  {
   "cell_type": "markdown",
   "metadata": {},
   "source": [
    "Le degré d'une commune (le nombre de connexions directes avec d'autres communes) est un indicateur clé de son intégration dans le réseau. Un degré élevé indique une commune bien connectée, suggérant une forte capacité d'interaction et de collaboration avec les communes voisines. Cette intégration peut attirer des résidents et des entreprises cherchant à bénéficier de ces multiples connexions pour les opportunités économiques et les services disponibles."
   ]
  },
  {
   "cell_type": "code",
   "execution_count": null,
   "metadata": {},
   "outputs": [],
   "source": [
    "def centraliteDeProximite(G):\n",
    "    dico = {}\n",
    "    for node1 in G.nodes:\n",
    "        length = nx.shortest_path_length(G, source=node1)\n",
    "        dico[node1] = sum(length.values())\n",
    "    return dico\n",
    "\n",
    "c = centraliteDeProximite(G)\n",
    "\n",
    "affichageGraphe(c,\"centralité de proximité\")"
   ]
  },
  {
   "cell_type": "markdown",
   "metadata": {},
   "source": [
    "La centralité de proximité évalue à quel point une commune est proche de toutes les autres communes en termes de distances moyennes. Une haute centralité de proximité indique que la commune est facilement accessible, ce qui est un atout majeur pour l'attractivité. Cela facilite les déplacements pour les résidents, les échanges commerciaux et l'accès aux services publics, rendant la commune plus désirable pour vivre et investir."
   ]
  },
  {
   "cell_type": "code",
   "execution_count": null,
   "metadata": {},
   "outputs": [],
   "source": [
    "def centraliteIntermediarite(G):\n",
    "    dico = {}\n",
    "    for node1 in G.nodes:\n",
    "        length = nx.shortest_path_length(G, source=node1)\n",
    "        dico[node1] = sum(1/val if val != 0 else 0 for val in length.values())\n",
    "    return dico\n",
    "\n",
    "c = centraliteIntermediarite(G)\n",
    "\n",
    "affichageGraphe(c,\"centralité d'intermédiarité\")"
   ]
  },
  {
   "cell_type": "markdown",
   "metadata": {},
   "source": [
    "La centralité d'intermédiarité mesure la fréquence à laquelle une commune se trouve sur les chemins les plus courts reliant d'autres communes. Cette mesure est essentielle pour identifier les communes qui jouent un rôle crucial dans les flux de transport et de communication au sein du réseau. Une haute centralité d'intermédiarité signifie que la commune est un point de passage stratégique, ce qui peut attirer des entreprises de logistique, des commerces et des services de transit, augmentant ainsi son attractivité."
   ]
  },
  {
   "cell_type": "markdown",
   "metadata": {},
   "source": [
    "En utilisant ces quatre indicateurs, nous obtenons une vision multidimensionnelle de l'attractivité des communes :\n",
    "\n",
    "L'excentricité nous informe sur la centralité géographique et l'accessibilité globale.\n",
    "Le degré reflète le niveau de connectivité directe et l'intégration dans le réseau.\n",
    "La centralité de proximité évalue l'accessibilité relative aux autres communes.\n",
    "La centralité d'intermédiarité révèle l'importance stratégique dans les flux de communication et de transport."
   ]
  },
  {
   "cell_type": "code",
   "execution_count": null,
   "metadata": {},
   "outputs": [],
   "source": [
    "baseDeDonnees = mysql.connector.connect(host=\"localhost\",user=\"root\",password=\"root\", database=\"test\")\n",
    "cursor = baseDeDonnees.cursor()\n",
    "cursor.execute(\"Select * from donneesannuelles\")\n",
    "donneesannuelles = cursor.fetchall()\n",
    "cursor.execute(\"Select * from gare\")\n",
    "gare = cursor.fetchall()\n",
    "cursor.execute(\"Select * from aeroport\")\n",
    "aeroport = cursor.fetchall()\n",
    "baseDeDonnees.close()"
   ]
  },
  {
   "cell_type": "markdown",
   "metadata": {},
   "source": [
    "Les fichiers csv contenait assez d'informations pour utiliser des indicateurs de théorie des graphes intéressant, néanmoins d'autre indicateur peuvent l'être tout autant, mais pour cela il nous faut plus de donner. À l'aide de la bibliothèque MySQL, on récupère toutes les données de l'application qu'on a stockées dans une base de données afin de pouvoir les utiliser des graphes.  \n",
    "\n",
    "<p style=\"color:red;\"><b>ATTENTION !</b></p>\n",
    "Il faut donc avoir une base de données qui contient les données de l'application.\n",
    "Sur la première ligne, il faudra remplacer l'user, le password et le nom de la base de données en marche sur votre machine."
   ]
  },
  {
   "cell_type": "code",
   "execution_count": null,
   "metadata": {},
   "outputs": [],
   "source": [
    "def affichageDonnees(donnees,annee):\n",
    "    dico = {}\n",
    "    for e in donneesannuelles:\n",
    "        if e[1] in G.nodes:\n",
    "            if e[0] == annee:\n",
    "                dico[e[1]] = e[donnees]\n",
    "\n",
    "    average = sum(dico.values())/len(dico)\n",
    "    dico[22108] = average\n",
    "    dico[22139] = average\n",
    "    dico[22276] = average\n",
    "    dico[22335] = average\n",
    "    dico[35354] = average\n",
    "    return dico\n",
    "\n",
    "\n",
    "listeName = [\"nbMaison\",\"nbAppart\",\"PrixMoyen\",\"PrixM2Moyen\",\"SurfaceMoyenne\",\"DepenseCulturelleTotale\",\"Budget total\",\"population\"]\n",
    "for i in range(2,10):\n",
    "    c = affichageDonnees(i,2019)\n",
    "    affichageGraphe(c,listeName[i-2])"
   ]
  },
  {
   "cell_type": "markdown",
   "metadata": {},
   "source": [
    "À partir de notre base de données, on affiche les graphes qui montrent pour chaque commune.\n",
    "\n",
    "Nombre de maisons (\"nbMaison\") :\n",
    "Le nombre de maisons dans une commune donne une idée du type de logement prédominant et de l'espace disponible pour les familles. Une proportion élevée de maisons peut indiquer un environnement résidentiel attrayant, souvent associé à plus d'espace, de jardins, et de quartiers paisibles, ce qui peut attirer les familles et les personnes cherchant une meilleure qualité de vie.\n",
    "\n",
    "Nombre d'appartements (\"nbAppart\") :\n",
    "Le nombre d'appartements reflète la densité résidentielle et la disponibilité de logements plus petits. Cela peut attirer des jeunes professionnels, des célibataires, ou des couples sans enfants, cherchant des options de logement abordables et pratiques, souvent situées à proximité des services urbains.\n",
    "\n",
    "Prix moyen des logements (\"PrixMoyen\") :\n",
    "Le prix moyen des logements est un indicateur clé du coût de la vie et de l'accessibilité financière. Des prix plus bas peuvent attirer des résidents à la recherche de logements abordables, tandis que des prix plus élevés peuvent indiquer une forte demande et une attractivité perçue de la commune.\n",
    "\n",
    "Prix moyen au mètre carré (\"PrixM2Moyen\") :\n",
    "Le prix moyen au mètre carré fournit une mesure plus précise de la valeur immobilière, permettant de comparer les communes indépendamment de la taille des logements. C'est un indicateur important pour les acheteurs potentiels et les investisseurs immobiliers évaluant la rentabilité de leurs investissements.\n",
    "\n",
    "Surface moyenne des logements (\"SurfaceMoyenne\") :\n",
    "La surface moyenne des logements informe sur le type de logements disponibles et le confort des résidences. Des surfaces moyennes, plus grandes peuvent attirer les familles et ceux recherchant plus d'espace, tandis que des surfaces plus petites peuvent convenir à des jeunes adultes ou des personnes seules.\n",
    "\n",
    "Dépense culturelle totale (\"DepenseCulturelleTotale\") :\n",
    "La dépense culturelle totale indique l'engagement de la commune envers les activités culturelles et les loisirs. Une dépense élevée peut refléter une riche offre culturelle, ce qui est un facteur d'attractivité important pour les résidents intéressés par les arts, la culture et les événements communautaires.\n",
    "\n",
    "Budget total de la commune (\"Budget total\") :\n",
    "Le budget total de la commune est un indicateur de sa capacité financière à fournir des services et des infrastructures. Une commune avec un budget important peut offrir de meilleurs services publics, des infrastructures de qualité et investir dans le développement local, augmentant ainsi son attractivité.\n",
    "\n",
    "Population :\n",
    "La population d'une commune est un indicateur de sa taille et de son dynamisme démographique. Une population croissante peut indiquer une attractivité accrue, tandis qu'une population stable ou en déclin peut signaler des défis économiques ou sociaux. La taille de la population est également importante pour planifier les services et les infrastructures nécessaires.\n",
    "\n",
    "\n",
    "Ces indicateurs permettent de couvrir une vaste gamme de facteurs influençant l'attractivité des communes :\n",
    "\n",
    "Logement : \"nbMaison\", \"nbAppart\", \"PrixMoyen\", \"PrixM2Moyen\", \"SurfaceMoyenne\" fournissent des informations sur le marché immobilier, les types de logements disponibles, et le coût de la vie.\n",
    "\n",
    "Culture et services : \"DepenseCulturelleTotale\" et \"Budget total\" reflètent l'engagement de la commune à offrir des services et des activités qui enrichissent la vie des résidents.\n",
    "\n",
    "Démographie : La \"population\" aide à comprendre le dynamisme et la croissance de la commune."
   ]
  },
  {
   "cell_type": "code",
   "execution_count": null,
   "metadata": {},
   "outputs": [],
   "source": [
    "def distanceGare():\n",
    "    nopeList = [56009, 56241, 56152, 56114]\n",
    "\n",
    "    dico = {}\n",
    "    nodeGare = []\n",
    "    for e in gare:\n",
    "        nodeGare.append(e[4])\n",
    "        \n",
    "    for e in G.nodes:\n",
    "        if e not in nopeList:\n",
    "            d = math.inf\n",
    "            for e2 in nodeGare:\n",
    "                calc = nx.shortest_path_length(G, source=e, target=e2)\n",
    "                if calc < d:\n",
    "                    d = calc\n",
    "            dico[e] = d\n",
    "        else:\n",
    "            dico[e] = 8\n",
    "    \n",
    "    return dico\n",
    "\n",
    "c = distanceGare()\n",
    "\n",
    "\n",
    "affichageGraphe(c,\"distance à la gare la plus proche\")"
   ]
  },
  {
   "cell_type": "markdown",
   "metadata": {},
   "source": [
    "La distance à la gare la plus proche est un indicateur crucial de l'attractivité des communes. Une proximité avec une gare améliore l'accessibilité et la mobilité des résidents, facilitant les déplacements quotidiens pour le travail, les études et les loisirs. Cela encourage également le développement économique en attirant des entreprises grâce à une meilleure logistique et à un accès facilité aux marchés. De plus, un bon accès aux transports en commun réduit la nécessité de posséder une voiture, abaissant ainsi les coûts de transport et contribuant à un mode de vie plus durable. Enfin, la proximité d'une gare rend la commune plus accessible aux touristes, stimulant l'économie locale par l'augmentation des visiteurs et des dépenses associées."
   ]
  }
 ],
 "metadata": {
  "kernelspec": {
   "display_name": "Python 3",
   "language": "python",
   "name": "python3"
  },
  "language_info": {
   "codemirror_mode": {
    "name": "ipython",
    "version": 3
   },
   "file_extension": ".py",
   "mimetype": "text/x-python",
   "name": "python",
   "nbconvert_exporter": "python",
   "pygments_lexer": "ipython3",
   "version": "3.12.3"
  }
 },
 "nbformat": 4,
 "nbformat_minor": 2
}
